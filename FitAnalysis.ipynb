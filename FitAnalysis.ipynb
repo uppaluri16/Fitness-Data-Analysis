{
  "nbformat": 4,
  "nbformat_minor": 0,
  "metadata": {
    "colab": {
      "provenance": [],
      "authorship_tag": "ABX9TyPyZkYRNJKTD2+D57dJYBJE",
      "include_colab_link": true
    },
    "kernelspec": {
      "name": "python3",
      "display_name": "Python 3"
    },
    "language_info": {
      "name": "python"
    }
  },
  "cells": [
    {
      "cell_type": "markdown",
      "metadata": {
        "id": "view-in-github",
        "colab_type": "text"
      },
      "source": [
        "<a href=\"https://colab.research.google.com/github/uppaluri16/Fitness-Data-Analysis/blob/main/FitAnalysis.ipynb\" target=\"_parent\"><img src=\"https://colab.research.google.com/assets/colab-badge.svg\" alt=\"Open In Colab\"/></a>"
      ]
    },
    {
      "cell_type": "code",
      "execution_count": 9,
      "metadata": {
        "id": "dtlALomra1Gz"
      },
      "outputs": [],
      "source": [
        "import numpy as np\n",
        "data = np.loadtxt('/content/sample_data/fit.txt', dtype='str')"
      ]
    },
    {
      "cell_type": "code",
      "source": [
        "# Shape and Dimensionality of the data\n",
        "data.shape, data.ndim"
      ],
      "metadata": {
        "colab": {
          "base_uri": "https://localhost:8080/"
        },
        "id": "FO50EU_Cb9Mq",
        "outputId": "16057a2f-2596-4181-9d2a-f640d87ea2ca"
      },
      "execution_count": 10,
      "outputs": [
        {
          "output_type": "execute_result",
          "data": {
            "text/plain": [
              "((96, 6), 2)"
            ]
          },
          "metadata": {},
          "execution_count": 10
        }
      ]
    },
    {
      "cell_type": "code",
      "source": [
        "data[:5] #date, step_count, mood, calories_burned, hours_of_sleep, activity_status"
      ],
      "metadata": {
        "colab": {
          "base_uri": "https://localhost:8080/"
        },
        "id": "UqScvSE6cRbB",
        "outputId": "1e842bc1-b0a0-4794-d6ce-7c9a148cc0da"
      },
      "execution_count": 44,
      "outputs": [
        {
          "output_type": "execute_result",
          "data": {
            "text/plain": [
              "array([['06-10-2017', '5464', 'Neutral', '181', '5', 'Inactive'],\n",
              "       ['07-10-2017', '6041', 'Sad', '197', '8', 'Inactive'],\n",
              "       ['08-10-2017', '25', 'Sad', '0', '5', 'Inactive'],\n",
              "       ['09-10-2017', '5461', 'Sad', '174', '4', 'Inactive'],\n",
              "       ['10-10-2017', '6915', 'Neutral', '223', '5', 'Active']],\n",
              "      dtype='<U10')"
            ]
          },
          "metadata": {},
          "execution_count": 44
        }
      ]
    },
    {
      "cell_type": "code",
      "source": [
        "date = data[:,0]\n",
        "step_count = data[:,1]\n",
        "mood = data[:,2]\n",
        "calories_burned = data[:,3]\n",
        "hours_of_sleep = data[:,4]\n",
        "activity_status = data[:,5]"
      ],
      "metadata": {
        "id": "QzlTHEWjcRhn"
      },
      "execution_count": 45,
      "outputs": []
    },
    {
      "cell_type": "code",
      "source": [
        "# Step_Count\n",
        "step_count = np.array(step_count, dtype='int')\n",
        "print(len(step_count))\n",
        "print(step_count.dtype)\n",
        "print(step_count)"
      ],
      "metadata": {
        "colab": {
          "base_uri": "https://localhost:8080/"
        },
        "id": "bvzdGXBFcRky",
        "outputId": "9ab49372-497c-46ff-dc5c-92a9f8031cda"
      },
      "execution_count": 46,
      "outputs": [
        {
          "output_type": "stream",
          "name": "stdout",
          "text": [
            "96\n",
            "int64\n",
            "[5464 6041   25 5461 6915 4545 4340 1230   61 1258 3148 4687 4732 3519\n",
            " 1580 2822  181 3158 4383 3881 4037  202  292  330 2209 4550 4435 4779\n",
            " 1831 2255  539 5464 6041 4068 4683 4033 6314  614 3149 4005 4880 4136\n",
            "  705  570  269 4275 5999 4421 6930 5195  546  493  995 1163 6676 3608\n",
            "  774 1421 4064 2725 5934 1867 3721 2374 2909 1648  799 7102 3941 7422\n",
            "  437 1231 1696 4921  221 6500 3575 4061  651  753  518 5537 4108 5376\n",
            " 3066  177   36  299 1447 2599  702  133  153  500 2127 2203]\n"
          ]
        }
      ]
    },
    {
      "cell_type": "code",
      "source": [
        "# Mood\n",
        "print(len(mood))\n",
        "print(type(mood))\n",
        "print(np.unique(mood))"
      ],
      "metadata": {
        "colab": {
          "base_uri": "https://localhost:8080/"
        },
        "id": "Da6b2px7cRoZ",
        "outputId": "c299a383-04f8-4956-bde9-7748069ccd11"
      },
      "execution_count": 47,
      "outputs": [
        {
          "output_type": "stream",
          "name": "stdout",
          "text": [
            "96\n",
            "<class 'numpy.ndarray'>\n",
            "['Happy' 'Neutral' 'Sad']\n"
          ]
        }
      ]
    },
    {
      "cell_type": "code",
      "source": [
        "# Calories_Burned\n",
        "calories_burned = np.array(calories_burned, dtype='int')\n",
        "print(len(calories_burned))\n",
        "print(calories_burned.dtype)\n",
        "print(calories_burned)"
      ],
      "metadata": {
        "colab": {
          "base_uri": "https://localhost:8080/"
        },
        "id": "A39B7qNqk18l",
        "outputId": "fdebf492-f9cc-428d-cb5c-64458ce18ab6"
      },
      "execution_count": 48,
      "outputs": [
        {
          "output_type": "stream",
          "name": "stdout",
          "text": [
            "96\n",
            "int64\n",
            "[181 197   0 174 223 149 140  38   1  40 101 152 150 113  49  86   6  99\n",
            " 143 125 129   6   9  10  72 150 141 156  57  72  17 181 197 131 154 137\n",
            " 193  19 101 139 164 137  22  17   9 145 192 146 234 167  16  17  32  35\n",
            " 220 116  23  44 131  86 194  60 121  76  93  53  25 227 125 243  14  39\n",
            "  55 158   7 213 116 129  21  28  16 180 138 176  99   5   1  10  47  84\n",
            "  23   4   0   0   0   0]\n"
          ]
        }
      ]
    },
    {
      "cell_type": "code",
      "source": [
        "# Hours_Of_Sleep\n",
        "hours_of_sleep = np.array(hours_of_sleep, dtype='int')\n",
        "print(len(hours_of_sleep))\n",
        "print(hours_of_sleep.dtype)\n",
        "print(np.unique(hours_of_sleep))"
      ],
      "metadata": {
        "colab": {
          "base_uri": "https://localhost:8080/"
        },
        "id": "zREoT9Psk1_g",
        "outputId": "947bb8cc-cb6f-4361-e891-7586df336eb3"
      },
      "execution_count": 49,
      "outputs": [
        {
          "output_type": "stream",
          "name": "stdout",
          "text": [
            "96\n",
            "int64\n",
            "[2 3 4 5 6 7 8 9]\n"
          ]
        }
      ]
    },
    {
      "cell_type": "code",
      "source": [
        "#Activity_Status\n",
        "print(len(activity_status))\n",
        "print(activity_status.dtype)\n",
        "print(np.unique(activity_status))"
      ],
      "metadata": {
        "colab": {
          "base_uri": "https://localhost:8080/"
        },
        "id": "Idr89h4-k2CX",
        "outputId": "82e19dcd-2412-447e-9293-637ef23e8666"
      },
      "execution_count": 29,
      "outputs": [
        {
          "output_type": "stream",
          "name": "stdout",
          "text": [
            "96\n",
            "<U10\n",
            "['Active' 'Inactive']\n"
          ]
        }
      ]
    },
    {
      "cell_type": "code",
      "source": [
        "# Checking the activity status count\n",
        "Active_people = len(activity_status[activity_status == 'Active'])\n",
        "print(Active_people)\n",
        "Inactive_people = len(activity_status[activity_status == 'Inactive'])\n",
        "print(Inactive_people)"
      ],
      "metadata": {
        "colab": {
          "base_uri": "https://localhost:8080/"
        },
        "id": "zNjKXytLk2FO",
        "outputId": "32c836f1-4ed0-45aa-e30d-2c111d7033ba"
      },
      "execution_count": 34,
      "outputs": [
        {
          "output_type": "stream",
          "name": "stdout",
          "text": [
            "42\n",
            "54\n"
          ]
        }
      ]
    },
    {
      "cell_type": "code",
      "source": [
        "# Checking the mood count\n",
        "Sad_people = len(mood[mood == 'Sad'])\n",
        "print(Sad_people)\n",
        "Happy_people = len(mood[mood == 'Happy'])\n",
        "print(Happy_people)\n",
        "Neutral_people = len(mood[mood == 'Neutral'])\n",
        "print(Neutral_people)"
      ],
      "metadata": {
        "colab": {
          "base_uri": "https://localhost:8080/"
        },
        "id": "MLGiZ3gtk2H4",
        "outputId": "bae64a57-4bd6-4ca9-aeb8-b925ca6feb71"
      },
      "execution_count": 35,
      "outputs": [
        {
          "output_type": "stream",
          "name": "stdout",
          "text": [
            "29\n",
            "40\n",
            "27\n"
          ]
        }
      ]
    },
    {
      "cell_type": "code",
      "source": [
        "# Step Count according to mood\n",
        "step_count_happy = step_count[mood == 'Happy']\n",
        "print(len(step_count_happy))\n",
        "print( step_count_happy)\n",
        "step_count_sad = step_count[mood == 'Sad']\n",
        "print(len(step_count_sad))\n",
        "print(step_count_sad)\n",
        "step_count_neutral = step_count[mood == 'Neutral']\n",
        "print(len(step_count_neutral))\n",
        "print(step_count_neutral)"
      ],
      "metadata": {
        "colab": {
          "base_uri": "https://localhost:8080/"
        },
        "id": "_Y-fIJzvk2Kw",
        "outputId": "b5737b95-c50b-47f7-8ed1-3f54a564043b"
      },
      "execution_count": 50,
      "outputs": [
        {
          "output_type": "stream",
          "name": "stdout",
          "text": [
            "40\n",
            "[4732  330 4550 4435 4779 1831 2255  539 5464 4068 4683 4033 6314  614\n",
            " 3149 4005 4880 4136  705  269 4275 5999 4421 6930 5195  546  493  995\n",
            " 3608  774 1421 4064 2725 5934 1867 7422 5537 5376  153 2203]\n",
            "29\n",
            "[6041   25 5461 4545 4340 1230   61 1258 3148 4687 3519 1580 2822  181\n",
            " 6676 3721 1648  799 1696  221 4061  651  753  518  177   36  299  702\n",
            "  133]\n",
            "27\n",
            "[5464 6915 3158 4383 3881 4037  202  292 2209 6041  570 1163 2374 2909\n",
            " 7102 3941  437 1231 4921 6500 3575 4108 3066 1447 2599  500 2127]\n"
          ]
        }
      ]
    },
    {
      "cell_type": "code",
      "source": [],
      "metadata": {
        "id": "UCOqGcNQk2OF"
      },
      "execution_count": 56,
      "outputs": []
    }
  ]
}